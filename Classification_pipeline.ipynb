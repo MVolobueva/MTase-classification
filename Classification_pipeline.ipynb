{
  "cells": [
    {
      "cell_type": "markdown",
      "metadata": {
        "id": "view-in-github",
        "colab_type": "text"
      },
      "source": [
        "<a href=\"https://colab.research.google.com/github/MVolobueva/MTase-classification/blob/main/Classification_pipeline.ipynb\" target=\"_parent\"><img src=\"https://colab.research.google.com/assets/colab-badge.svg\" alt=\"Open In Colab\"/></a>"
      ]
    },
    {
      "cell_type": "markdown",
      "source": [
        "#MTase classification\n",
        "In this notebook we will focus on the pipeline for MTase classification.\n",
        "\n",
        "*Our classification algorithm   uses cat-profiles (HMM profiles that locate catalytic motifs from DB Pfam and SUPFAM). Cat-profiles allows detecting regions of cat- and sam- subdomains and motifs.*\n",
        "\n",
        "Pipeline involves 3 steps:\n",
        "\n",
        "\n",
        "1.   Running hmmer package\n",
        "2.   Cutting subdomain and motif region from profile alignment and MTase sequence\n",
        "3.  Class detection on motif and subdomain regions\n",
        "\n",
        "\n"
      ],
      "metadata": {
        "id": "NvatB6wdS9Rt"
      }
    },
    {
      "cell_type": "code",
      "source": [
        "!rm -r MTase-classification/"
      ],
      "metadata": {
        "id": "EFNzJh-Bslq8"
      },
      "execution_count": null,
      "outputs": []
    },
    {
      "cell_type": "markdown",
      "source": [
        "##0. Clone github repository"
      ],
      "metadata": {
        "id": "nYulUqnFZ4oT"
      }
    },
    {
      "cell_type": "code",
      "source": [
        "!git clone https://github.com/MVolobueva/MTase-classification.git"
      ],
      "metadata": {
        "colab": {
          "base_uri": "https://localhost:8080/"
        },
        "id": "gdxyyOSJZ1Ve",
        "outputId": "de7f772f-7bd1-4380-9ad4-e7daf8de3d97"
      },
      "execution_count": null,
      "outputs": [
        {
          "output_type": "stream",
          "name": "stdout",
          "text": [
            "Cloning into 'MTase-classification'...\n",
            "remote: Enumerating objects: 21, done.\u001b[K\n",
            "remote: Counting objects: 100% (21/21), done.\u001b[K\n",
            "remote: Compressing objects: 100% (14/14), done.\u001b[K\n",
            "remote: Total 21 (delta 1), reused 21 (delta 1), pack-reused 0\u001b[K\n",
            "Receiving objects: 100% (21/21), 460.69 KiB | 1.51 MiB/s, done.\n",
            "Resolving deltas: 100% (1/1), done.\n"
          ]
        }
      ]
    },
    {
      "cell_type": "markdown",
      "source": [
        "## 1.Running hmmer package\n",
        "\n"
      ],
      "metadata": {
        "id": "XnIq6nmyT2rW"
      }
    },
    {
      "cell_type": "markdown",
      "source": [
        "### 1.1 Hmmer packalge instalation"
      ],
      "metadata": {
        "id": "9Wq4K1IMYjWd"
      }
    },
    {
      "cell_type": "code",
      "execution_count": null,
      "metadata": {
        "colab": {
          "base_uri": "https://localhost:8080/"
        },
        "id": "_dWAw3-IrmeG",
        "outputId": "a8c52086-fe42-4732-f6c0-e80c55d02be6"
      },
      "outputs": [
        {
          "output_type": "stream",
          "name": "stdout",
          "text": [
            "Reading package lists... Done\n",
            "Building dependency tree... Done\n",
            "Reading state information... Done\n",
            "The following additional packages will be installed:\n",
            "  libdivsufsort3\n",
            "Suggested packages:\n",
            "  hmmer-doc\n",
            "The following NEW packages will be installed:\n",
            "  hmmer libdivsufsort3\n",
            "0 upgraded, 2 newly installed, 0 to remove and 9 not upgraded.\n",
            "Need to get 1,198 kB of archives.\n",
            "After this operation, 7,621 kB of additional disk space will be used.\n",
            "Get:1 http://archive.ubuntu.com/ubuntu jammy/universe amd64 libdivsufsort3 amd64 2.0.1-5 [42.8 kB]\n",
            "Get:2 http://archive.ubuntu.com/ubuntu jammy/universe amd64 hmmer amd64 3.3.2+dfsg-1 [1,155 kB]\n",
            "Fetched 1,198 kB in 2s (589 kB/s)\n",
            "debconf: unable to initialize frontend: Dialog\n",
            "debconf: (No usable dialog-like program is installed, so the dialog based frontend cannot be used. at /usr/share/perl5/Debconf/FrontEnd/Dialog.pm line 78, <> line 2.)\n",
            "debconf: falling back to frontend: Readline\n",
            "debconf: unable to initialize frontend: Readline\n",
            "debconf: (This frontend requires a controlling tty.)\n",
            "debconf: falling back to frontend: Teletype\n",
            "dpkg-preconfigure: unable to re-open stdin: \n",
            "Selecting previously unselected package libdivsufsort3:amd64.\n",
            "(Reading database ... 120880 files and directories currently installed.)\n",
            "Preparing to unpack .../libdivsufsort3_2.0.1-5_amd64.deb ...\n",
            "Unpacking libdivsufsort3:amd64 (2.0.1-5) ...\n",
            "Selecting previously unselected package hmmer.\n",
            "Preparing to unpack .../hmmer_3.3.2+dfsg-1_amd64.deb ...\n",
            "Unpacking hmmer (3.3.2+dfsg-1) ...\n",
            "Setting up libdivsufsort3:amd64 (2.0.1-5) ...\n",
            "Setting up hmmer (3.3.2+dfsg-1) ...\n",
            "Processing triggers for man-db (2.10.2-1) ...\n",
            "Processing triggers for libc-bin (2.35-0ubuntu3.4) ...\n",
            "/sbin/ldconfig.real: /usr/local/lib/libtbbbind_2_5.so.3 is not a symbolic link\n",
            "\n",
            "/sbin/ldconfig.real: /usr/local/lib/libtbbmalloc.so.2 is not a symbolic link\n",
            "\n",
            "/sbin/ldconfig.real: /usr/local/lib/libtbbmalloc_proxy.so.2 is not a symbolic link\n",
            "\n",
            "/sbin/ldconfig.real: /usr/local/lib/libtbbbind_2_0.so.3 is not a symbolic link\n",
            "\n",
            "/sbin/ldconfig.real: /usr/local/lib/libtbb.so.12 is not a symbolic link\n",
            "\n",
            "/sbin/ldconfig.real: /usr/local/lib/libtbbbind.so.3 is not a symbolic link\n",
            "\n"
          ]
        }
      ],
      "source": [
        "!sudo apt-get -y install hmmer"
      ]
    },
    {
      "cell_type": "markdown",
      "source": [
        "### 1.2 HMM profiles search"
      ],
      "metadata": {
        "id": "NdNskdGuYrZ6"
      }
    },
    {
      "cell_type": "markdown",
      "source": [
        "Make foldor for results"
      ],
      "metadata": {
        "id": "iMWcacFytUh8"
      }
    },
    {
      "cell_type": "code",
      "source": [
        "!mkdir ./results/"
      ],
      "metadata": {
        "id": "Y5rKjhPnoVu7"
      },
      "execution_count": null,
      "outputs": []
    },
    {
      "cell_type": "markdown",
      "source": [
        "**file.stk**  - file with alignment of MTase sequences according to HMM profile\n",
        "\n",
        "**file.domtbl** - file with HMM profile hits\n"
      ],
      "metadata": {
        "id": "2FUDbAr2t7O1"
      }
    },
    {
      "cell_type": "markdown",
      "source": [
        "#### 1.2.1 SUPFAM profiles search"
      ],
      "metadata": {
        "id": "W8PsMbdtY01u"
      }
    },
    {
      "cell_type": "code",
      "source": [
        "!hmmsearch --cpu 3 -E 0.01 --domE 0.01 --incE 0.01 --incdomE 0.01 \\\n",
        "        -o /dev/null --noali -A ./results/SUPFAM.stk --domtblout ./results/SUPFAM.domtbl \\\n",
        "        ./MTase-classification/HMM_profiles/cat_profiles_SUPFAM.hmm ./MTase-classification/Sample_MTases/rebenz.txt"
      ],
      "metadata": {
        "id": "72MxK5lboACY"
      },
      "execution_count": null,
      "outputs": []
    },
    {
      "cell_type": "code",
      "source": [],
      "metadata": {
        "id": "dmZOxjCatco8"
      },
      "execution_count": null,
      "outputs": []
    },
    {
      "cell_type": "markdown",
      "source": [
        "###2. Cutting subdomain and motif region from profile alignment and MTase sequence"
      ],
      "metadata": {
        "id": "VmC76VgYth4e"
      }
    },
    {
      "cell_type": "markdown",
      "source": [
        "Install required libraries\n"
      ],
      "metadata": {
        "id": "WMVL5zNLtuyC"
      }
    },
    {
      "cell_type": "code",
      "source": [
        "!git clone https://github.com/isrusin/etsv\n",
        "!python3 -m pip install -e etsv"
      ],
      "metadata": {
        "colab": {
          "base_uri": "https://localhost:8080/"
        },
        "id": "zKYFWftBtkY8",
        "outputId": "3d429c1f-45da-4ccd-e70f-19af57b1bbc2"
      },
      "execution_count": null,
      "outputs": [
        {
          "output_type": "stream",
          "name": "stdout",
          "text": [
            "Cloning into 'etsv'...\n",
            "remote: Enumerating objects: 47, done.\u001b[K\n",
            "remote: Counting objects: 100% (47/47), done.\u001b[K\n",
            "remote: Compressing objects: 100% (30/30), done.\u001b[K\n",
            "remote: Total 47 (delta 10), reused 47 (delta 10), pack-reused 0\u001b[K\n",
            "Receiving objects: 100% (47/47), 9.92 KiB | 4.96 MiB/s, done.\n",
            "Resolving deltas: 100% (10/10), done.\n",
            "Obtaining file:///content/etsv\n",
            "  Installing build dependencies ... \u001b[?25l\u001b[?25hdone\n",
            "  Checking if build backend supports build_editable ... \u001b[?25l\u001b[?25hdone\n",
            "  Getting requirements to build editable ... \u001b[?25l\u001b[?25hdone\n",
            "  Preparing editable metadata (pyproject.toml) ... \u001b[?25l\u001b[?25hdone\n",
            "Building wheels for collected packages: etsv\n",
            "  Building editable for etsv (pyproject.toml) ... \u001b[?25l\u001b[?25hdone\n",
            "  Created wheel for etsv: filename=etsv-0.0.2-0.editable-py3-none-any.whl size=1282 sha256=26a6d784e5389b23f2012e0e32e9989a449eca168b175a88ea0be26d09fd5ca7\n",
            "  Stored in directory: /tmp/pip-ephem-wheel-cache-wllwii0u/wheels/54/37/04/f3f5689d9aa16adc2b15b6be1fe70879c9be31cb99bdf04281\n",
            "Successfully built etsv\n",
            "Installing collected packages: etsv\n",
            "Successfully installed etsv-0.0.2\n"
          ]
        }
      ]
    },
    {
      "cell_type": "markdown",
      "source": [
        "Cut sam- and cat- subdomain and motif regions from alignments"
      ],
      "metadata": {
        "id": "UBf1nvJQu9kQ"
      }
    },
    {
      "cell_type": "code",
      "source": [
        "!./MTase-classification/Scripts/get_aln_regions.py \\\n",
        "  ./MTase-classification/profile-markup/SMD_regions.tsv \\\n",
        "  ./results/SUPFAM.stk > ./results/region_alignments_SUPFAM.tsv"
      ],
      "metadata": {
        "id": "wJNm2of1tz_m"
      },
      "execution_count": null,
      "outputs": []
    },
    {
      "cell_type": "markdown",
      "source": [
        "**region_alignments.tsv** - file with cut sections of regions from the MTase\n",
        "sequence alignment along a cat-profile"
      ],
      "metadata": {
        "id": "56XUhCmExIxL"
      }
    },
    {
      "cell_type": "markdown",
      "source": [
        "##3. Detect class"
      ],
      "metadata": {
        "id": "KwWc5Q-vt0fe"
      }
    },
    {
      "cell_type": "code",
      "source": [
        "!mkdir ./results/SUPFAM"
      ],
      "metadata": {
        "id": "tsGhn8ww2g5W"
      },
      "execution_count": null,
      "outputs": []
    },
    {
      "cell_type": "code",
      "source": [
        "!python ./MTase-classification/Scripts/classification_SUPFAM.py"
      ],
      "metadata": {
        "colab": {
          "base_uri": "https://localhost:8080/"
        },
        "id": "XgAPRkfE1GwU",
        "outputId": "d6ab37af-b271-4d13-d97c-54da6e3d4882"
      },
      "execution_count": null,
      "outputs": [
        {
          "output_type": "stream",
          "name": "stdout",
          "text": [
            "Path to dataframe:./results/region_alignments_SUPFAM.tsv\n",
            "Path to cat-motif from class A:/content/MTase-classification/Scripts/A_class.csv\n",
            "Path to cat-motif from class B:/content/MTase-classification/Scripts/B_class.csv\n",
            "Path to cat-motif from class C:/content/MTase-classification/Scripts/C_class.csv\n",
            "Path to cat-motif from class D:/content/MTase-classification/Scripts/D_class.csv\n",
            "where to save:./results/SUPFAM\n",
            "3\n",
            "3\n",
            "3\n",
            "3\n",
            "3\n",
            "3\n"
          ]
        }
      ]
    },
    {
      "cell_type": "code",
      "source": [
        "!python ./MTase-classification/Scripts/classification_SUPFAM.py\n"
      ],
      "metadata": {
        "colab": {
          "base_uri": "https://localhost:8080/"
        },
        "id": "20mR9SUCtoUX",
        "outputId": "2415b5ec-f566-4d05-c7c4-bbbde5b6978c"
      },
      "execution_count": null,
      "outputs": [
        {
          "output_type": "stream",
          "name": "stdout",
          "text": [
            "Path to dataframe:./results/region_alignments_SUPFAM.tsv\n",
            "Path to cat-motif from class A:/content/MTase-classification/Scripts/A_class.csv\n",
            "Path to cat-motif from class B:/content/MTase-classification/Scripts/B_class.csv\n",
            "Path to cat-motif from class C:/content/MTase-classification/Scripts/C_class.csv\n",
            "Path to cat-motif from class D:/content/MTase-classification/Scripts/D_class.csv\n",
            "where to save:./results/SUPFAM\n",
            "3\n",
            "3\n",
            "3\n",
            "3\n",
            "3\n",
            "3\n",
            "5\n",
            "5\n",
            "5\n",
            "5\n"
          ]
        }
      ]
    },
    {
      "cell_type": "code",
      "execution_count": null,
      "metadata": {
        "colab": {
          "base_uri": "https://localhost:8080/",
          "height": 118
        },
        "id": "6ovecHfS0c8-",
        "outputId": "ac7993bb-b86c-4d7b-dc12-fc3fc13c8205"
      },
      "outputs": [
        {
          "output_type": "execute_result",
          "data": {
            "text/plain": [
              "   Unnamed: 0 REBASE_name A_topology  B_topology  C_topology  D_topology  \\\n",
              "0           0        BaeI    435-438         NaN         NaN         NaN   \n",
              "\n",
              "   K_topology  M_topology  L_topology  \n",
              "0         NaN         NaN         NaN  "
            ],
            "text/html": [
              "\n",
              "  <div id=\"df-77983d09-3069-4a55-a419-dfc9dbd20171\" class=\"colab-df-container\">\n",
              "    <div>\n",
              "<style scoped>\n",
              "    .dataframe tbody tr th:only-of-type {\n",
              "        vertical-align: middle;\n",
              "    }\n",
              "\n",
              "    .dataframe tbody tr th {\n",
              "        vertical-align: top;\n",
              "    }\n",
              "\n",
              "    .dataframe thead th {\n",
              "        text-align: right;\n",
              "    }\n",
              "</style>\n",
              "<table border=\"1\" class=\"dataframe\">\n",
              "  <thead>\n",
              "    <tr style=\"text-align: right;\">\n",
              "      <th></th>\n",
              "      <th>Unnamed: 0</th>\n",
              "      <th>REBASE_name</th>\n",
              "      <th>A_topology</th>\n",
              "      <th>B_topology</th>\n",
              "      <th>C_topology</th>\n",
              "      <th>D_topology</th>\n",
              "      <th>K_topology</th>\n",
              "      <th>M_topology</th>\n",
              "      <th>L_topology</th>\n",
              "    </tr>\n",
              "  </thead>\n",
              "  <tbody>\n",
              "    <tr>\n",
              "      <th>0</th>\n",
              "      <td>0</td>\n",
              "      <td>BaeI</td>\n",
              "      <td>435-438</td>\n",
              "      <td>NaN</td>\n",
              "      <td>NaN</td>\n",
              "      <td>NaN</td>\n",
              "      <td>NaN</td>\n",
              "      <td>NaN</td>\n",
              "      <td>NaN</td>\n",
              "    </tr>\n",
              "  </tbody>\n",
              "</table>\n",
              "</div>\n",
              "    <div class=\"colab-df-buttons\">\n",
              "\n",
              "  <div class=\"colab-df-container\">\n",
              "    <button class=\"colab-df-convert\" onclick=\"convertToInteractive('df-77983d09-3069-4a55-a419-dfc9dbd20171')\"\n",
              "            title=\"Convert this dataframe to an interactive table.\"\n",
              "            style=\"display:none;\">\n",
              "\n",
              "  <svg xmlns=\"http://www.w3.org/2000/svg\" height=\"24px\" viewBox=\"0 -960 960 960\">\n",
              "    <path d=\"M120-120v-720h720v720H120Zm60-500h600v-160H180v160Zm220 220h160v-160H400v160Zm0 220h160v-160H400v160ZM180-400h160v-160H180v160Zm440 0h160v-160H620v160ZM180-180h160v-160H180v160Zm440 0h160v-160H620v160Z\"/>\n",
              "  </svg>\n",
              "    </button>\n",
              "\n",
              "  <style>\n",
              "    .colab-df-container {\n",
              "      display:flex;\n",
              "      gap: 12px;\n",
              "    }\n",
              "\n",
              "    .colab-df-convert {\n",
              "      background-color: #E8F0FE;\n",
              "      border: none;\n",
              "      border-radius: 50%;\n",
              "      cursor: pointer;\n",
              "      display: none;\n",
              "      fill: #1967D2;\n",
              "      height: 32px;\n",
              "      padding: 0 0 0 0;\n",
              "      width: 32px;\n",
              "    }\n",
              "\n",
              "    .colab-df-convert:hover {\n",
              "      background-color: #E2EBFA;\n",
              "      box-shadow: 0px 1px 2px rgba(60, 64, 67, 0.3), 0px 1px 3px 1px rgba(60, 64, 67, 0.15);\n",
              "      fill: #174EA6;\n",
              "    }\n",
              "\n",
              "    .colab-df-buttons div {\n",
              "      margin-bottom: 4px;\n",
              "    }\n",
              "\n",
              "    [theme=dark] .colab-df-convert {\n",
              "      background-color: #3B4455;\n",
              "      fill: #D2E3FC;\n",
              "    }\n",
              "\n",
              "    [theme=dark] .colab-df-convert:hover {\n",
              "      background-color: #434B5C;\n",
              "      box-shadow: 0px 1px 3px 1px rgba(0, 0, 0, 0.15);\n",
              "      filter: drop-shadow(0px 1px 2px rgba(0, 0, 0, 0.3));\n",
              "      fill: #FFFFFF;\n",
              "    }\n",
              "  </style>\n",
              "\n",
              "    <script>\n",
              "      const buttonEl =\n",
              "        document.querySelector('#df-77983d09-3069-4a55-a419-dfc9dbd20171 button.colab-df-convert');\n",
              "      buttonEl.style.display =\n",
              "        google.colab.kernel.accessAllowed ? 'block' : 'none';\n",
              "\n",
              "      async function convertToInteractive(key) {\n",
              "        const element = document.querySelector('#df-77983d09-3069-4a55-a419-dfc9dbd20171');\n",
              "        const dataTable =\n",
              "          await google.colab.kernel.invokeFunction('convertToInteractive',\n",
              "                                                    [key], {});\n",
              "        if (!dataTable) return;\n",
              "\n",
              "        const docLinkHtml = 'Like what you see? Visit the ' +\n",
              "          '<a target=\"_blank\" href=https://colab.research.google.com/notebooks/data_table.ipynb>data table notebook</a>'\n",
              "          + ' to learn more about interactive tables.';\n",
              "        element.innerHTML = '';\n",
              "        dataTable['output_type'] = 'display_data';\n",
              "        await google.colab.output.renderOutput(dataTable, element);\n",
              "        const docLink = document.createElement('div');\n",
              "        docLink.innerHTML = docLinkHtml;\n",
              "        element.appendChild(docLink);\n",
              "      }\n",
              "    </script>\n",
              "  </div>\n",
              "\n",
              "    </div>\n",
              "  </div>\n"
            ]
          },
          "metadata": {},
          "execution_count": 64
        }
      ],
      "source": [
        "import pandas as pd\n",
        "pd.read_csv('/content/results/SUPFAM/classes.csv')"
      ]
    }
  ],
  "metadata": {
    "colab": {
      "provenance": [],
      "authorship_tag": "ABX9TyOpwBCgA7BNTzaX8uTZ8Zuu",
      "include_colab_link": true
    },
    "kernelspec": {
      "display_name": "Python 3",
      "name": "python3"
    },
    "language_info": {
      "name": "python"
    }
  },
  "nbformat": 4,
  "nbformat_minor": 0
}